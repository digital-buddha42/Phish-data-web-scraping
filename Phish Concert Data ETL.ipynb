{
 "cells": [
  {
   "cell_type": "code",
   "execution_count": 26,
   "id": "2a5b6441",
   "metadata": {},
   "outputs": [],
   "source": [
    "from splinter import Browser\n",
    "from bs4 import BeautifulSoup as soup\n",
    "from datetime import datetime"
   ]
  },
  {
   "cell_type": "code",
   "execution_count": 2,
   "id": "e1fda61f",
   "metadata": {},
   "outputs": [],
   "source": [
    "browser = Browser('chrome')"
   ]
  },
  {
   "cell_type": "code",
   "execution_count": 20,
   "id": "d736c570",
   "metadata": {},
   "outputs": [],
   "source": [
    "url = 'https://phish.net/setlists/phish/'\n",
    "browser.visit(url)\n",
    "html = browser.html\n",
    "phish_soup = soup(html, 'html.parser')"
   ]
  },
  {
   "cell_type": "code",
   "execution_count": 48,
   "id": "99eb71f9",
   "metadata": {},
   "outputs": [
    {
     "data": {
      "text/plain": [
       "['8/31/2023', '8/26/2023', '8/25/2023', '8/05/2023', '8/04/2023']"
      ]
     },
     "execution_count": 48,
     "metadata": {},
     "output_type": "execute_result"
    }
   ],
   "source": [
    "dates = phish_soup.find_all('span', class_='setlist-date')\n",
    "\n",
    "date_strings = [date.text[-10:] for date in dates]\n",
    "\n",
    "cleaned_date_strings = [date.strip() for date in date_strings]\n",
    "cleaned_date_strings[0:5]"
   ]
  },
  {
   "cell_type": "code",
   "execution_count": 59,
   "id": "e21938af",
   "metadata": {},
   "outputs": [
    {
     "data": {
      "text/plain": [
       "[\"DICK'S SPORTING GOODS PARK\",\n",
       " 'BROADVIEW STAGE AT SPAC',\n",
       " 'BROADVIEW STAGE AT SPAC',\n",
       " 'MADISON SQUARE GARDEN',\n",
       " 'MADISON SQUARE GARDEN']"
      ]
     },
     "execution_count": 59,
     "metadata": {},
     "output_type": "execute_result"
    }
   ],
   "source": [
    "venues = phish_soup.find_all('div', class_='setlist-venue')\n",
    "\n",
    "venue_strings = [venue.text.strip() for venue in venues]\n",
    "venue_strings[0:5]"
   ]
  },
  {
   "cell_type": "code",
   "execution_count": 77,
   "id": "beb5697e",
   "metadata": {},
   "outputs": [
    {
     "name": "stdout",
     "output_type": "stream",
     "text": [
      "['Commerce City', 'Saratoga Springs', 'Saratoga Springs', 'New York', 'New York']\n",
      "['CO', 'NY', 'NY', 'NY', 'NY']\n"
     ]
    }
   ],
   "source": [
    "locations = phish_soup.find_all('div', class_='setlist-location')\n",
    "\n",
    "locations = [location.text.strip() for location in locations]\n",
    "\n",
    "cities = [location.split(',')[0] for location in locations]\n",
    "states = [location[-2:] for location in locations]\n",
    "\n",
    "print(cities[0:5])\n",
    "print(states[0:5])\n",
    "    "
   ]
  },
  {
   "cell_type": "code",
   "execution_count": 78,
   "id": "fd1ef92a",
   "metadata": {},
   "outputs": [
    {
     "ename": "NameError",
     "evalue": "name 'pd' is not defined",
     "output_type": "error",
     "traceback": [
      "\u001b[1;31m-----------------------------------------------------------------------\u001b[0m",
      "\u001b[1;31mNameError\u001b[0m                             Traceback (most recent call last)",
      "Cell \u001b[1;32mIn[78], line 1\u001b[0m\n\u001b[1;32m----> 1\u001b[0m phish_p1_df \u001b[38;5;241m=\u001b[39m \u001b[43mpd\u001b[49m\u001b[38;5;241m.\u001b[39mDataFrame({\n\u001b[0;32m      2\u001b[0m     \u001b[38;5;124m'\u001b[39m\u001b[38;5;124mDate\u001b[39m\u001b[38;5;124m'\u001b[39m: cleaned_date_strings,\n\u001b[0;32m      3\u001b[0m     \u001b[38;5;124m'\u001b[39m\u001b[38;5;124mVenue\u001b[39m\u001b[38;5;124m'\u001b[39m: venue_strings,\n\u001b[0;32m      4\u001b[0m     \u001b[38;5;124m'\u001b[39m\u001b[38;5;124mCity\u001b[39m\u001b[38;5;124m'\u001b[39m: cities,\n\u001b[0;32m      5\u001b[0m     \u001b[38;5;124m'\u001b[39m\u001b[38;5;124mState\u001b[39m\u001b[38;5;124m'\u001b[39m: states\n\u001b[0;32m      6\u001b[0m })\n\u001b[0;32m      7\u001b[0m phish_p1_df\n",
      "\u001b[1;31mNameError\u001b[0m: name 'pd' is not defined"
     ]
    }
   ],
   "source": [
    "phish_p1_df = pd.DataFrame({\n",
    "    'Date': cleaned_date_strings,\n",
    "    'Venue': venue_strings,\n",
    "    'City': cities,\n",
    "    'State': states\n",
    "})\n",
    "phish_p1_df"
   ]
  }
 ],
 "metadata": {
  "kernelspec": {
   "display_name": "Python 3 (ipykernel)",
   "language": "python",
   "name": "python3"
  },
  "language_info": {
   "codemirror_mode": {
    "name": "ipython",
    "version": 3
   },
   "file_extension": ".py",
   "mimetype": "text/x-python",
   "name": "python",
   "nbconvert_exporter": "python",
   "pygments_lexer": "ipython3",
   "version": "3.10.11"
  }
 },
 "nbformat": 4,
 "nbformat_minor": 5
}
